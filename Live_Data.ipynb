{
 "cells": [
  {
   "cell_type": "code",
   "execution_count": 1,
   "metadata": {},
   "outputs": [
    {
     "name": "stdout",
     "output_type": "stream",
     "text": [
      "Requirement already satisfied: bs4 in f:\\anaconda\\lib\\site-packages (0.0.1)\n",
      "Requirement already satisfied: beautifulsoup4 in f:\\anaconda\\lib\\site-packages (from bs4) (4.8.0)\n",
      "Requirement already satisfied: soupsieve>=1.2 in f:\\anaconda\\lib\\site-packages (from beautifulsoup4->bs4) (1.9.3)\n",
      "Note: you may need to restart the kernel to use updated packages.\n"
     ]
    }
   ],
   "source": [
    "pip install bs4"
   ]
  },
  {
   "cell_type": "code",
   "execution_count": 2,
   "metadata": {},
   "outputs": [
    {
     "name": "stdout",
     "output_type": "stream",
     "text": [
      "Requirement already satisfied: tabulate in f:\\anaconda\\lib\\site-packages (0.8.7)\n",
      "Note: you may need to restart the kernel to use updated packages.\n"
     ]
    }
   ],
   "source": [
    "pip install tabulate"
   ]
  },
  {
   "cell_type": "code",
   "execution_count": 3,
   "metadata": {},
   "outputs": [
    {
     "name": "stdout",
     "output_type": "stream",
     "text": [
      "Requirement already satisfied: matplotlib in f:\\anaconda\\lib\\site-packages (3.1.1)\n",
      "Requirement already satisfied: cycler>=0.10 in f:\\anaconda\\lib\\site-packages (from matplotlib) (0.10.0)\n",
      "Requirement already satisfied: kiwisolver>=1.0.1 in f:\\anaconda\\lib\\site-packages (from matplotlib) (1.1.0)\n",
      "Requirement already satisfied: pyparsing!=2.0.4,!=2.1.2,!=2.1.6,>=2.0.1 in f:\\anaconda\\lib\\site-packages (from matplotlib) (2.4.2)\n",
      "Requirement already satisfied: python-dateutil>=2.1 in f:\\anaconda\\lib\\site-packages (from matplotlib) (2.8.0)\n",
      "Requirement already satisfied: numpy>=1.11 in f:\\anaconda\\lib\\site-packages (from matplotlib) (1.16.5)\n",
      "Requirement already satisfied: six in f:\\anaconda\\lib\\site-packages (from cycler>=0.10->matplotlib) (1.12.0)\n",
      "Requirement already satisfied: setuptools in f:\\anaconda\\lib\\site-packages (from kiwisolver>=1.0.1->matplotlib) (41.4.0)\n",
      "Note: you may need to restart the kernel to use updated packages.\n"
     ]
    }
   ],
   "source": [
    "pip install matplotlib"
   ]
  },
  {
   "cell_type": "code",
   "execution_count": 4,
   "metadata": {},
   "outputs": [
    {
     "name": "stdout",
     "output_type": "stream",
     "text": [
      "Requirement already satisfied: numpy in f:\\anaconda\\lib\\site-packages (1.16.5)\n",
      "Note: you may need to restart the kernel to use updated packages.\n"
     ]
    }
   ],
   "source": [
    "pip install numpy"
   ]
  },
  {
   "cell_type": "code",
   "execution_count": 5,
   "metadata": {},
   "outputs": [],
   "source": [
    "import requests\n",
    "from bs4 import BeautifulSoup"
   ]
  },
  {
   "cell_type": "code",
   "execution_count": 6,
   "metadata": {},
   "outputs": [],
   "source": [
    "from tabulate import tabulate\n",
    "import os"
   ]
  },
  {
   "cell_type": "code",
   "execution_count": 7,
   "metadata": {},
   "outputs": [],
   "source": [
    "import numpy as np\n",
    "import matplotlib.pyplot as plt"
   ]
  },
  {
   "cell_type": "code",
   "execution_count": 8,
   "metadata": {},
   "outputs": [],
   "source": [
    "extract_contents = lambda row: [x.text.replace('\\n','')for x in row]\n",
    "url = 'https://www.mohfw.gov.in/'"
   ]
  },
  {
   "cell_type": "code",
   "execution_count": 9,
   "metadata": {},
   "outputs": [],
   "source": [
    "Short_Headers = ['SNo', 'State','Total Confirmed cases','Cured','Death']"
   ]
  },
  {
   "cell_type": "code",
   "execution_count": 10,
   "metadata": {},
   "outputs": [],
   "source": [
    "response = requests.get(url).content\n",
    "soup = BeautifulSoup(response,'html.parser')"
   ]
  },
  {
   "cell_type": "code",
   "execution_count": 11,
   "metadata": {},
   "outputs": [],
   "source": [
    "header = extract_contents(soup.tr.find_all('th')) "
   ]
  },
  {
   "cell_type": "code",
   "execution_count": 12,
   "metadata": {},
   "outputs": [],
   "source": [
    "stats = []\n",
    "all_rows = soup.find_all('tr')"
   ]
  },
  {
   "cell_type": "code",
   "execution_count": 13,
   "metadata": {},
   "outputs": [],
   "source": [
    "for row in all_rows:\n",
    "    stat = extract_contents(row.find_all('td'))\n",
    "    if stat:\n",
    "        if len(stat) == 5:\n",
    "            stat =  [*stat]\n",
    "            stats.append(stat)\n",
    "        elif len(stat) == 6:\n",
    "            stats.append(stat)"
   ]
  },
  {
   "cell_type": "code",
   "execution_count": 14,
   "metadata": {},
   "outputs": [
    {
     "data": {
      "text/plain": [
       "list"
      ]
     },
     "execution_count": 14,
     "metadata": {},
     "output_type": "execute_result"
    }
   ],
   "source": [
    "type(stats)"
   ]
  },
  {
   "cell_type": "code",
   "execution_count": 15,
   "metadata": {},
   "outputs": [
    {
     "data": {
      "text/plain": [
       "[['1', 'Andaman and Nicobar Islands', '12', '11', '0'],\n",
       " ['2', 'Andhra Pradesh', '603', '42', '15'],\n",
       " ['3', 'Arunachal Pradesh', '1', '0', '0'],\n",
       " ['4', 'Assam', '35', '9', '1'],\n",
       " ['5', 'Bihar', '85', '37', '2'],\n",
       " ['6', 'Chandigarh', '21', '9', '0'],\n",
       " ['7', 'Chhattisgarh', '36', '24', '0'],\n",
       " ['8', 'Delhi', '1707', '72', '42'],\n",
       " ['9', 'Goa', '7', '6', '0'],\n",
       " ['10', 'Gujarat', '1272', '88', '48'],\n",
       " ['11', 'Haryana', '225', '43', '3'],\n",
       " ['12', 'Himachal Pradesh', '38', '16', '1'],\n",
       " ['13', 'Jammu and Kashmir', '328', '42', '5'],\n",
       " ['14', 'Jharkhand', '33', '0', '2'],\n",
       " ['15', 'Karnataka', '371', '92', '13'],\n",
       " ['16', 'Kerala', '396', '255', '3'],\n",
       " ['17', 'Ladakh', '18', '14', '0'],\n",
       " ['18', 'Madhya Pradesh', '1355', '69', '69'],\n",
       " ['19', 'Maharashtra', '3323', '331', '201'],\n",
       " ['20', 'Manipur', '2', '1', '0'],\n",
       " ['21', 'Meghalaya', '11', '0', '1'],\n",
       " ['22', 'Mizoram', '1', '0', '0'],\n",
       " ['23', 'Nagaland#', '0', '0', '0'],\n",
       " ['24', 'Odisha', '60', '21', '1'],\n",
       " ['25', 'Puducherry', '7', '3', '0'],\n",
       " ['26', 'Punjab', '202', '27', '13'],\n",
       " ['27', 'Rajasthan', '1229', '183', '11'],\n",
       " ['28', 'Tamil Nadu', '1323', '283', '15'],\n",
       " ['29', 'Telengana', '791', '186', '18'],\n",
       " ['30', 'Tripura', '2', '1', '0'],\n",
       " ['31', 'Uttarakhand', '42', '9', '0'],\n",
       " ['32', 'Uttar Pradesh', '969', '86', '14'],\n",
       " ['32', 'West Bengal', '287', '55', '10']]"
      ]
     },
     "execution_count": 15,
     "metadata": {},
     "output_type": "execute_result"
    }
   ],
   "source": [
    "stats"
   ]
  },
  {
   "cell_type": "code",
   "execution_count": 16,
   "metadata": {},
   "outputs": [],
   "source": [
    "stats[-1][1] = \"Total Cases\"\n",
    "stats.remove(stats[-1])"
   ]
  },
  {
   "cell_type": "code",
   "execution_count": 17,
   "metadata": {},
   "outputs": [],
   "source": [
    "object = [row[1] for row in stats]\n",
    "y_ps = np.arange(len(object))\n",
    "performance = [row[2] + str(int(float(row[3]))) for row in stats]"
   ]
  },
  {
   "cell_type": "code",
   "execution_count": 18,
   "metadata": {},
   "outputs": [
    {
     "name": "stdout",
     "output_type": "stream",
     "text": [
      "  SNo  State                          Total Confirmed cases    Cured    Death\n",
      "-----  ---------------------------  -----------------------  -------  -------\n",
      "    1  Andaman and Nicobar Islands                       12       11        0\n",
      "    2  Andhra Pradesh                                   603       42       15\n",
      "    3  Arunachal Pradesh                                  1        0        0\n",
      "    4  Assam                                             35        9        1\n",
      "    5  Bihar                                             85       37        2\n",
      "    6  Chandigarh                                        21        9        0\n",
      "    7  Chhattisgarh                                      36       24        0\n",
      "    8  Delhi                                           1707       72       42\n",
      "    9  Goa                                                7        6        0\n",
      "   10  Gujarat                                         1272       88       48\n",
      "   11  Haryana                                          225       43        3\n",
      "   12  Himachal Pradesh                                  38       16        1\n",
      "   13  Jammu and Kashmir                                328       42        5\n",
      "   14  Jharkhand                                         33        0        2\n",
      "   15  Karnataka                                        371       92       13\n",
      "   16  Kerala                                           396      255        3\n",
      "   17  Ladakh                                            18       14        0\n",
      "   18  Madhya Pradesh                                  1355       69       69\n",
      "   19  Maharashtra                                     3323      331      201\n",
      "   20  Manipur                                            2        1        0\n",
      "   21  Meghalaya                                         11        0        1\n",
      "   22  Mizoram                                            1        0        0\n",
      "   23  Nagaland#                                          0        0        0\n",
      "   24  Odisha                                            60       21        1\n",
      "   25  Puducherry                                         7        3        0\n",
      "   26  Punjab                                           202       27       13\n",
      "   27  Rajasthan                                       1229      183       11\n",
      "   28  Tamil Nadu                                      1323      283       15\n",
      "   29  Telengana                                        791      186       18\n",
      "   30  Tripura                                            2        1        0\n",
      "   31  Uttarakhand                                       42        9        0\n",
      "   32  Uttar Pradesh                                    969       86       14\n"
     ]
    }
   ],
   "source": [
    "table = tabulate(stats, headers = Short_Headers)\n",
    "print(table)"
   ]
  },
  {
   "cell_type": "code",
   "execution_count": 19,
   "metadata": {},
   "outputs": [
    {
     "data": {
      "text/plain": [
       "str"
      ]
     },
     "execution_count": 19,
     "metadata": {},
     "output_type": "execute_result"
    }
   ],
   "source": [
    "type(table)"
   ]
  },
  {
   "cell_type": "markdown",
   "metadata": {},
   "source": [
    "# Exploratory Data Analysis"
   ]
  },
  {
   "cell_type": "code",
   "execution_count": 20,
   "metadata": {},
   "outputs": [],
   "source": [
    "import pandas as pd"
   ]
  },
  {
   "cell_type": "code",
   "execution_count": 21,
   "metadata": {},
   "outputs": [],
   "source": [
    "covid_data = pd.DataFrame(stats)"
   ]
  },
  {
   "cell_type": "code",
   "execution_count": 22,
   "metadata": {},
   "outputs": [
    {
     "data": {
      "text/html": [
       "<div>\n",
       "<style scoped>\n",
       "    .dataframe tbody tr th:only-of-type {\n",
       "        vertical-align: middle;\n",
       "    }\n",
       "\n",
       "    .dataframe tbody tr th {\n",
       "        vertical-align: top;\n",
       "    }\n",
       "\n",
       "    .dataframe thead th {\n",
       "        text-align: right;\n",
       "    }\n",
       "</style>\n",
       "<table border=\"1\" class=\"dataframe\">\n",
       "  <thead>\n",
       "    <tr style=\"text-align: right;\">\n",
       "      <th></th>\n",
       "      <th>0</th>\n",
       "      <th>1</th>\n",
       "      <th>2</th>\n",
       "      <th>3</th>\n",
       "      <th>4</th>\n",
       "    </tr>\n",
       "  </thead>\n",
       "  <tbody>\n",
       "    <tr>\n",
       "      <td>0</td>\n",
       "      <td>1</td>\n",
       "      <td>Andaman and Nicobar Islands</td>\n",
       "      <td>12</td>\n",
       "      <td>11</td>\n",
       "      <td>0</td>\n",
       "    </tr>\n",
       "    <tr>\n",
       "      <td>1</td>\n",
       "      <td>2</td>\n",
       "      <td>Andhra Pradesh</td>\n",
       "      <td>603</td>\n",
       "      <td>42</td>\n",
       "      <td>15</td>\n",
       "    </tr>\n",
       "    <tr>\n",
       "      <td>2</td>\n",
       "      <td>3</td>\n",
       "      <td>Arunachal Pradesh</td>\n",
       "      <td>1</td>\n",
       "      <td>0</td>\n",
       "      <td>0</td>\n",
       "    </tr>\n",
       "    <tr>\n",
       "      <td>3</td>\n",
       "      <td>4</td>\n",
       "      <td>Assam</td>\n",
       "      <td>35</td>\n",
       "      <td>9</td>\n",
       "      <td>1</td>\n",
       "    </tr>\n",
       "  </tbody>\n",
       "</table>\n",
       "</div>"
      ],
      "text/plain": [
       "   0                            1    2   3   4\n",
       "0  1  Andaman and Nicobar Islands   12  11   0\n",
       "1  2               Andhra Pradesh  603  42  15\n",
       "2  3            Arunachal Pradesh    1   0   0\n",
       "3  4                        Assam   35   9   1"
      ]
     },
     "execution_count": 22,
     "metadata": {},
     "output_type": "execute_result"
    }
   ],
   "source": [
    "covid_data.head(4)"
   ]
  },
  {
   "cell_type": "markdown",
   "metadata": {},
   "source": [
    "## Naming the Columns of Dataframe"
   ]
  },
  {
   "cell_type": "code",
   "execution_count": 23,
   "metadata": {},
   "outputs": [],
   "source": [
    "Live_covid_data = covid_data.rename(columns = {0:'Sno',1:'States',2:'Total Confirmed Cases(Indian + Foreign)',3:'Total Cured/Discharged Cases',4:'Total Deaths'})"
   ]
  },
  {
   "cell_type": "code",
   "execution_count": 24,
   "metadata": {},
   "outputs": [
    {
     "data": {
      "text/html": [
       "<div>\n",
       "<style scoped>\n",
       "    .dataframe tbody tr th:only-of-type {\n",
       "        vertical-align: middle;\n",
       "    }\n",
       "\n",
       "    .dataframe tbody tr th {\n",
       "        vertical-align: top;\n",
       "    }\n",
       "\n",
       "    .dataframe thead th {\n",
       "        text-align: right;\n",
       "    }\n",
       "</style>\n",
       "<table border=\"1\" class=\"dataframe\">\n",
       "  <thead>\n",
       "    <tr style=\"text-align: right;\">\n",
       "      <th></th>\n",
       "      <th>Sno</th>\n",
       "      <th>States</th>\n",
       "      <th>Total Confirmed Cases(Indian + Foreign)</th>\n",
       "      <th>Total Cured/Discharged Cases</th>\n",
       "      <th>Total Deaths</th>\n",
       "    </tr>\n",
       "  </thead>\n",
       "  <tbody>\n",
       "    <tr>\n",
       "      <td>0</td>\n",
       "      <td>1</td>\n",
       "      <td>Andaman and Nicobar Islands</td>\n",
       "      <td>12</td>\n",
       "      <td>11</td>\n",
       "      <td>0</td>\n",
       "    </tr>\n",
       "    <tr>\n",
       "      <td>1</td>\n",
       "      <td>2</td>\n",
       "      <td>Andhra Pradesh</td>\n",
       "      <td>603</td>\n",
       "      <td>42</td>\n",
       "      <td>15</td>\n",
       "    </tr>\n",
       "  </tbody>\n",
       "</table>\n",
       "</div>"
      ],
      "text/plain": [
       "  Sno                       States Total Confirmed Cases(Indian + Foreign)  \\\n",
       "0   1  Andaman and Nicobar Islands                                      12   \n",
       "1   2               Andhra Pradesh                                     603   \n",
       "\n",
       "  Total Cured/Discharged Cases Total Deaths  \n",
       "0                           11            0  \n",
       "1                           42           15  "
      ]
     },
     "execution_count": 24,
     "metadata": {},
     "output_type": "execute_result"
    }
   ],
   "source": [
    "Live_covid_data.head(2)"
   ]
  },
  {
   "cell_type": "code",
   "execution_count": 25,
   "metadata": {},
   "outputs": [
    {
     "data": {
      "text/html": [
       "<div>\n",
       "<style scoped>\n",
       "    .dataframe tbody tr th:only-of-type {\n",
       "        vertical-align: middle;\n",
       "    }\n",
       "\n",
       "    .dataframe tbody tr th {\n",
       "        vertical-align: top;\n",
       "    }\n",
       "\n",
       "    .dataframe thead th {\n",
       "        text-align: right;\n",
       "    }\n",
       "</style>\n",
       "<table border=\"1\" class=\"dataframe\">\n",
       "  <thead>\n",
       "    <tr style=\"text-align: right;\">\n",
       "      <th></th>\n",
       "      <th>States</th>\n",
       "      <th>Total Confirmed Cases(Indian + Foreign)</th>\n",
       "      <th>Total Cured/Discharged Cases</th>\n",
       "      <th>Total Deaths</th>\n",
       "    </tr>\n",
       "    <tr>\n",
       "      <th>Sno</th>\n",
       "      <th></th>\n",
       "      <th></th>\n",
       "      <th></th>\n",
       "      <th></th>\n",
       "    </tr>\n",
       "  </thead>\n",
       "  <tbody>\n",
       "    <tr>\n",
       "      <td>1</td>\n",
       "      <td>Andaman and Nicobar Islands</td>\n",
       "      <td>12</td>\n",
       "      <td>11</td>\n",
       "      <td>0</td>\n",
       "    </tr>\n",
       "    <tr>\n",
       "      <td>2</td>\n",
       "      <td>Andhra Pradesh</td>\n",
       "      <td>603</td>\n",
       "      <td>42</td>\n",
       "      <td>15</td>\n",
       "    </tr>\n",
       "    <tr>\n",
       "      <td>3</td>\n",
       "      <td>Arunachal Pradesh</td>\n",
       "      <td>1</td>\n",
       "      <td>0</td>\n",
       "      <td>0</td>\n",
       "    </tr>\n",
       "    <tr>\n",
       "      <td>4</td>\n",
       "      <td>Assam</td>\n",
       "      <td>35</td>\n",
       "      <td>9</td>\n",
       "      <td>1</td>\n",
       "    </tr>\n",
       "    <tr>\n",
       "      <td>5</td>\n",
       "      <td>Bihar</td>\n",
       "      <td>85</td>\n",
       "      <td>37</td>\n",
       "      <td>2</td>\n",
       "    </tr>\n",
       "    <tr>\n",
       "      <td>6</td>\n",
       "      <td>Chandigarh</td>\n",
       "      <td>21</td>\n",
       "      <td>9</td>\n",
       "      <td>0</td>\n",
       "    </tr>\n",
       "    <tr>\n",
       "      <td>7</td>\n",
       "      <td>Chhattisgarh</td>\n",
       "      <td>36</td>\n",
       "      <td>24</td>\n",
       "      <td>0</td>\n",
       "    </tr>\n",
       "    <tr>\n",
       "      <td>8</td>\n",
       "      <td>Delhi</td>\n",
       "      <td>1707</td>\n",
       "      <td>72</td>\n",
       "      <td>42</td>\n",
       "    </tr>\n",
       "    <tr>\n",
       "      <td>9</td>\n",
       "      <td>Goa</td>\n",
       "      <td>7</td>\n",
       "      <td>6</td>\n",
       "      <td>0</td>\n",
       "    </tr>\n",
       "    <tr>\n",
       "      <td>10</td>\n",
       "      <td>Gujarat</td>\n",
       "      <td>1272</td>\n",
       "      <td>88</td>\n",
       "      <td>48</td>\n",
       "    </tr>\n",
       "    <tr>\n",
       "      <td>11</td>\n",
       "      <td>Haryana</td>\n",
       "      <td>225</td>\n",
       "      <td>43</td>\n",
       "      <td>3</td>\n",
       "    </tr>\n",
       "    <tr>\n",
       "      <td>12</td>\n",
       "      <td>Himachal Pradesh</td>\n",
       "      <td>38</td>\n",
       "      <td>16</td>\n",
       "      <td>1</td>\n",
       "    </tr>\n",
       "    <tr>\n",
       "      <td>13</td>\n",
       "      <td>Jammu and Kashmir</td>\n",
       "      <td>328</td>\n",
       "      <td>42</td>\n",
       "      <td>5</td>\n",
       "    </tr>\n",
       "    <tr>\n",
       "      <td>14</td>\n",
       "      <td>Jharkhand</td>\n",
       "      <td>33</td>\n",
       "      <td>0</td>\n",
       "      <td>2</td>\n",
       "    </tr>\n",
       "    <tr>\n",
       "      <td>15</td>\n",
       "      <td>Karnataka</td>\n",
       "      <td>371</td>\n",
       "      <td>92</td>\n",
       "      <td>13</td>\n",
       "    </tr>\n",
       "    <tr>\n",
       "      <td>16</td>\n",
       "      <td>Kerala</td>\n",
       "      <td>396</td>\n",
       "      <td>255</td>\n",
       "      <td>3</td>\n",
       "    </tr>\n",
       "    <tr>\n",
       "      <td>17</td>\n",
       "      <td>Ladakh</td>\n",
       "      <td>18</td>\n",
       "      <td>14</td>\n",
       "      <td>0</td>\n",
       "    </tr>\n",
       "    <tr>\n",
       "      <td>18</td>\n",
       "      <td>Madhya Pradesh</td>\n",
       "      <td>1355</td>\n",
       "      <td>69</td>\n",
       "      <td>69</td>\n",
       "    </tr>\n",
       "    <tr>\n",
       "      <td>19</td>\n",
       "      <td>Maharashtra</td>\n",
       "      <td>3323</td>\n",
       "      <td>331</td>\n",
       "      <td>201</td>\n",
       "    </tr>\n",
       "    <tr>\n",
       "      <td>20</td>\n",
       "      <td>Manipur</td>\n",
       "      <td>2</td>\n",
       "      <td>1</td>\n",
       "      <td>0</td>\n",
       "    </tr>\n",
       "    <tr>\n",
       "      <td>21</td>\n",
       "      <td>Meghalaya</td>\n",
       "      <td>11</td>\n",
       "      <td>0</td>\n",
       "      <td>1</td>\n",
       "    </tr>\n",
       "    <tr>\n",
       "      <td>22</td>\n",
       "      <td>Mizoram</td>\n",
       "      <td>1</td>\n",
       "      <td>0</td>\n",
       "      <td>0</td>\n",
       "    </tr>\n",
       "    <tr>\n",
       "      <td>23</td>\n",
       "      <td>Nagaland#</td>\n",
       "      <td>0</td>\n",
       "      <td>0</td>\n",
       "      <td>0</td>\n",
       "    </tr>\n",
       "    <tr>\n",
       "      <td>24</td>\n",
       "      <td>Odisha</td>\n",
       "      <td>60</td>\n",
       "      <td>21</td>\n",
       "      <td>1</td>\n",
       "    </tr>\n",
       "    <tr>\n",
       "      <td>25</td>\n",
       "      <td>Puducherry</td>\n",
       "      <td>7</td>\n",
       "      <td>3</td>\n",
       "      <td>0</td>\n",
       "    </tr>\n",
       "    <tr>\n",
       "      <td>26</td>\n",
       "      <td>Punjab</td>\n",
       "      <td>202</td>\n",
       "      <td>27</td>\n",
       "      <td>13</td>\n",
       "    </tr>\n",
       "    <tr>\n",
       "      <td>27</td>\n",
       "      <td>Rajasthan</td>\n",
       "      <td>1229</td>\n",
       "      <td>183</td>\n",
       "      <td>11</td>\n",
       "    </tr>\n",
       "    <tr>\n",
       "      <td>28</td>\n",
       "      <td>Tamil Nadu</td>\n",
       "      <td>1323</td>\n",
       "      <td>283</td>\n",
       "      <td>15</td>\n",
       "    </tr>\n",
       "    <tr>\n",
       "      <td>29</td>\n",
       "      <td>Telengana</td>\n",
       "      <td>791</td>\n",
       "      <td>186</td>\n",
       "      <td>18</td>\n",
       "    </tr>\n",
       "    <tr>\n",
       "      <td>30</td>\n",
       "      <td>Tripura</td>\n",
       "      <td>2</td>\n",
       "      <td>1</td>\n",
       "      <td>0</td>\n",
       "    </tr>\n",
       "    <tr>\n",
       "      <td>31</td>\n",
       "      <td>Uttarakhand</td>\n",
       "      <td>42</td>\n",
       "      <td>9</td>\n",
       "      <td>0</td>\n",
       "    </tr>\n",
       "    <tr>\n",
       "      <td>32</td>\n",
       "      <td>Uttar Pradesh</td>\n",
       "      <td>969</td>\n",
       "      <td>86</td>\n",
       "      <td>14</td>\n",
       "    </tr>\n",
       "  </tbody>\n",
       "</table>\n",
       "</div>"
      ],
      "text/plain": [
       "                          States Total Confirmed Cases(Indian + Foreign)  \\\n",
       "Sno                                                                        \n",
       "1    Andaman and Nicobar Islands                                      12   \n",
       "2                 Andhra Pradesh                                     603   \n",
       "3              Arunachal Pradesh                                       1   \n",
       "4                          Assam                                      35   \n",
       "5                          Bihar                                      85   \n",
       "6                     Chandigarh                                      21   \n",
       "7                   Chhattisgarh                                      36   \n",
       "8                          Delhi                                    1707   \n",
       "9                            Goa                                       7   \n",
       "10                       Gujarat                                    1272   \n",
       "11                       Haryana                                     225   \n",
       "12              Himachal Pradesh                                      38   \n",
       "13             Jammu and Kashmir                                     328   \n",
       "14                     Jharkhand                                      33   \n",
       "15                     Karnataka                                     371   \n",
       "16                        Kerala                                     396   \n",
       "17                        Ladakh                                      18   \n",
       "18                Madhya Pradesh                                    1355   \n",
       "19                   Maharashtra                                    3323   \n",
       "20                       Manipur                                       2   \n",
       "21                     Meghalaya                                      11   \n",
       "22                       Mizoram                                       1   \n",
       "23                     Nagaland#                                       0   \n",
       "24                        Odisha                                      60   \n",
       "25                    Puducherry                                       7   \n",
       "26                        Punjab                                     202   \n",
       "27                     Rajasthan                                    1229   \n",
       "28                    Tamil Nadu                                    1323   \n",
       "29                     Telengana                                     791   \n",
       "30                       Tripura                                       2   \n",
       "31                   Uttarakhand                                      42   \n",
       "32                 Uttar Pradesh                                     969   \n",
       "\n",
       "    Total Cured/Discharged Cases Total Deaths  \n",
       "Sno                                            \n",
       "1                             11            0  \n",
       "2                             42           15  \n",
       "3                              0            0  \n",
       "4                              9            1  \n",
       "5                             37            2  \n",
       "6                              9            0  \n",
       "7                             24            0  \n",
       "8                             72           42  \n",
       "9                              6            0  \n",
       "10                            88           48  \n",
       "11                            43            3  \n",
       "12                            16            1  \n",
       "13                            42            5  \n",
       "14                             0            2  \n",
       "15                            92           13  \n",
       "16                           255            3  \n",
       "17                            14            0  \n",
       "18                            69           69  \n",
       "19                           331          201  \n",
       "20                             1            0  \n",
       "21                             0            1  \n",
       "22                             0            0  \n",
       "23                             0            0  \n",
       "24                            21            1  \n",
       "25                             3            0  \n",
       "26                            27           13  \n",
       "27                           183           11  \n",
       "28                           283           15  \n",
       "29                           186           18  \n",
       "30                             1            0  \n",
       "31                             9            0  \n",
       "32                            86           14  "
      ]
     },
     "execution_count": 25,
     "metadata": {},
     "output_type": "execute_result"
    }
   ],
   "source": [
    "Live_covid_data.set_index('Sno')"
   ]
  },
  {
   "cell_type": "code",
   "execution_count": 26,
   "metadata": {},
   "outputs": [
    {
     "data": {
      "text/plain": [
       "pandas.core.frame.DataFrame"
      ]
     },
     "execution_count": 26,
     "metadata": {},
     "output_type": "execute_result"
    }
   ],
   "source": [
    "type(Live_covid_data)"
   ]
  },
  {
   "cell_type": "code",
   "execution_count": 27,
   "metadata": {},
   "outputs": [
    {
     "name": "stdout",
     "output_type": "stream",
     "text": [
      "<class 'pandas.core.frame.DataFrame'>\n",
      "RangeIndex: 32 entries, 0 to 31\n",
      "Data columns (total 5 columns):\n",
      "Sno                                        32 non-null object\n",
      "States                                     32 non-null object\n",
      "Total Confirmed Cases(Indian + Foreign)    32 non-null object\n",
      "Total Cured/Discharged Cases               32 non-null object\n",
      "Total Deaths                               32 non-null object\n",
      "dtypes: object(5)\n",
      "memory usage: 1.4+ KB\n"
     ]
    }
   ],
   "source": [
    "Live_covid_data.info()"
   ]
  },
  {
   "cell_type": "markdown",
   "metadata": {},
   "source": [
    "## Converting datatype of some specific columns "
   ]
  },
  {
   "cell_type": "code",
   "execution_count": 28,
   "metadata": {},
   "outputs": [
    {
     "name": "stdout",
     "output_type": "stream",
     "text": [
      "<class 'pandas.core.frame.DataFrame'>\n",
      "RangeIndex: 32 entries, 0 to 31\n",
      "Data columns (total 5 columns):\n",
      "Sno                                        32 non-null int32\n",
      "States                                     32 non-null object\n",
      "Total Confirmed Cases(Indian + Foreign)    32 non-null int32\n",
      "Total Cured/Discharged Cases               32 non-null int32\n",
      "Total Deaths                               32 non-null int32\n",
      "dtypes: int32(4), object(1)\n",
      "memory usage: 896.0+ bytes\n"
     ]
    }
   ],
   "source": [
    "# Using Dictionary to convert Datatype\n",
    "convert_datatype = {'Sno':int, 'Total Confirmed Cases(Indian + Foreign)': int,'Total Cured/Discharged Cases': int, 'Total Deaths': int}\n",
    "Live_covid_data = Live_covid_data.astype(convert_datatype)\n",
    "Live_covid_data.info()"
   ]
  },
  {
   "cell_type": "code",
   "execution_count": 29,
   "metadata": {},
   "outputs": [
    {
     "data": {
      "text/html": [
       "<div>\n",
       "<style scoped>\n",
       "    .dataframe tbody tr th:only-of-type {\n",
       "        vertical-align: middle;\n",
       "    }\n",
       "\n",
       "    .dataframe tbody tr th {\n",
       "        vertical-align: top;\n",
       "    }\n",
       "\n",
       "    .dataframe thead th {\n",
       "        text-align: right;\n",
       "    }\n",
       "</style>\n",
       "<table border=\"1\" class=\"dataframe\">\n",
       "  <thead>\n",
       "    <tr style=\"text-align: right;\">\n",
       "      <th></th>\n",
       "      <th>Sno</th>\n",
       "      <th>States</th>\n",
       "      <th>Total Confirmed Cases(Indian + Foreign)</th>\n",
       "      <th>Total Cured/Discharged Cases</th>\n",
       "      <th>Total Deaths</th>\n",
       "    </tr>\n",
       "  </thead>\n",
       "  <tbody>\n",
       "    <tr>\n",
       "      <td>0</td>\n",
       "      <td>1</td>\n",
       "      <td>Andaman and Nicobar Islands</td>\n",
       "      <td>12</td>\n",
       "      <td>11</td>\n",
       "      <td>0</td>\n",
       "    </tr>\n",
       "    <tr>\n",
       "      <td>1</td>\n",
       "      <td>2</td>\n",
       "      <td>Andhra Pradesh</td>\n",
       "      <td>603</td>\n",
       "      <td>42</td>\n",
       "      <td>15</td>\n",
       "    </tr>\n",
       "    <tr>\n",
       "      <td>2</td>\n",
       "      <td>3</td>\n",
       "      <td>Arunachal Pradesh</td>\n",
       "      <td>1</td>\n",
       "      <td>0</td>\n",
       "      <td>0</td>\n",
       "    </tr>\n",
       "    <tr>\n",
       "      <td>3</td>\n",
       "      <td>4</td>\n",
       "      <td>Assam</td>\n",
       "      <td>35</td>\n",
       "      <td>9</td>\n",
       "      <td>1</td>\n",
       "    </tr>\n",
       "    <tr>\n",
       "      <td>4</td>\n",
       "      <td>5</td>\n",
       "      <td>Bihar</td>\n",
       "      <td>85</td>\n",
       "      <td>37</td>\n",
       "      <td>2</td>\n",
       "    </tr>\n",
       "  </tbody>\n",
       "</table>\n",
       "</div>"
      ],
      "text/plain": [
       "   Sno                       States  Total Confirmed Cases(Indian + Foreign)  \\\n",
       "0    1  Andaman and Nicobar Islands                                       12   \n",
       "1    2               Andhra Pradesh                                      603   \n",
       "2    3            Arunachal Pradesh                                        1   \n",
       "3    4                        Assam                                       35   \n",
       "4    5                        Bihar                                       85   \n",
       "\n",
       "   Total Cured/Discharged Cases  Total Deaths  \n",
       "0                            11             0  \n",
       "1                            42            15  \n",
       "2                             0             0  \n",
       "3                             9             1  \n",
       "4                            37             2  "
      ]
     },
     "execution_count": 29,
     "metadata": {},
     "output_type": "execute_result"
    }
   ],
   "source": [
    "Live_covid_data.head()"
   ]
  },
  {
   "cell_type": "code",
   "execution_count": 30,
   "metadata": {},
   "outputs": [
    {
     "data": {
      "text/plain": [
       "Sno                                        0\n",
       "States                                     0\n",
       "Total Confirmed Cases(Indian + Foreign)    0\n",
       "Total Cured/Discharged Cases               0\n",
       "Total Deaths                               0\n",
       "dtype: int64"
      ]
     },
     "execution_count": 30,
     "metadata": {},
     "output_type": "execute_result"
    }
   ],
   "source": [
    "# Checking Null values\n",
    "Live_covid_data.isnull().sum()"
   ]
  },
  {
   "cell_type": "markdown",
   "metadata": {},
   "source": [
    "### Zero Null values are present in the data."
   ]
  },
  {
   "cell_type": "markdown",
   "metadata": {},
   "source": [
    "# Saving dataframe data into csv format "
   ]
  },
  {
   "cell_type": "code",
   "execution_count": 31,
   "metadata": {},
   "outputs": [],
   "source": [
    "Live_covid_data.to_csv(\"Live_covid_data.csv\")"
   ]
  },
  {
   "cell_type": "markdown",
   "metadata": {},
   "source": [
    "# Data Visualization "
   ]
  },
  {
   "cell_type": "code",
   "execution_count": 32,
   "metadata": {},
   "outputs": [],
   "source": [
    "# installing visualization package\n",
    "import matplotlib.pyplot as plt\n",
    "import seaborn as sns"
   ]
  },
  {
   "cell_type": "code",
   "execution_count": null,
   "metadata": {},
   "outputs": [],
   "source": []
  },
  {
   "cell_type": "code",
   "execution_count": null,
   "metadata": {},
   "outputs": [],
   "source": []
  },
  {
   "cell_type": "code",
   "execution_count": null,
   "metadata": {},
   "outputs": [],
   "source": []
  },
  {
   "cell_type": "code",
   "execution_count": null,
   "metadata": {},
   "outputs": [],
   "source": []
  },
  {
   "cell_type": "code",
   "execution_count": null,
   "metadata": {},
   "outputs": [],
   "source": []
  },
  {
   "cell_type": "code",
   "execution_count": null,
   "metadata": {},
   "outputs": [],
   "source": []
  },
  {
   "cell_type": "code",
   "execution_count": null,
   "metadata": {},
   "outputs": [],
   "source": []
  },
  {
   "cell_type": "code",
   "execution_count": null,
   "metadata": {},
   "outputs": [],
   "source": []
  },
  {
   "cell_type": "code",
   "execution_count": 38,
   "metadata": {},
   "outputs": [
    {
     "data": {
      "text/plain": [
       "14091"
      ]
     },
     "execution_count": 38,
     "metadata": {},
     "output_type": "execute_result"
    }
   ],
   "source": [
    "Live_covid_data['Total Confirmed Cases(Indian + Foreign)'].sum()"
   ]
  },
  {
   "cell_type": "code",
   "execution_count": null,
   "metadata": {},
   "outputs": [],
   "source": []
  }
 ],
 "metadata": {
  "kernelspec": {
   "display_name": "Python 3",
   "language": "python",
   "name": "python3"
  },
  "language_info": {
   "codemirror_mode": {
    "name": "ipython",
    "version": 3
   },
   "file_extension": ".py",
   "mimetype": "text/x-python",
   "name": "python",
   "nbconvert_exporter": "python",
   "pygments_lexer": "ipython3",
   "version": "3.7.4"
  }
 },
 "nbformat": 4,
 "nbformat_minor": 2
}
